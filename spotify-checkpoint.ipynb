{
 "cells": [
  {
   "cell_type": "code",
   "execution_count": 34,
   "id": "a90186d8",
   "metadata": {},
   "outputs": [],
   "source": [
    "from pyspark.sql import SparkSession\n",
    "from pyspark.ml.classification import LogisticRegression\n",
    "from pyspark.sql.functions import col, format_number, when, isnan, regexp_replace, expr\n",
    "from pyspark.ml.feature import StringIndexer\n",
    "from pyspark.ml.feature import VectorAssembler\n",
    "from pyspark.sql.types import IntegerType, FloatType\n",
    "from pyspark.ml.evaluation import (BinaryClassificationEvaluator, MulticlassClassificationEvaluator)\n",
    "import matplotlib.pyplot as plt\n",
    "import pandas as pd"
   ]
  },
  {
   "cell_type": "code",
   "execution_count": 2,
   "id": "debd54dd",
   "metadata": {},
   "outputs": [],
   "source": [
    "spark = SparkSession.builder.appName('logisticRegression').getOrCreate()"
   ]
  },
  {
   "cell_type": "code",
   "execution_count": 3,
   "id": "c302c7fe",
   "metadata": {},
   "outputs": [],
   "source": [
    "data = spark.read.csv('spotify-2023.csv', header=True, inferSchema=True, nanValue = '?')"
   ]
  },
  {
   "cell_type": "code",
   "execution_count": 4,
   "id": "2800c849",
   "metadata": {},
   "outputs": [
    {
     "data": {
      "text/plain": [
       "DataFrame[summary: string, track_name: string, artist(s)_name: string, artist_count: string, released_year: string, released_month: string, released_day: string, in_spotify_playlists: string, in_spotify_charts: string, streams: string, in_apple_playlists: string, in_apple_charts: string, in_deezer_playlists: string, in_deezer_charts: string, in_shazam_charts: string, bpm: string, key: string, mode: string, danceability_%: string, valence_%: string, energy_%: string, acousticness_%: string, instrumentalness_%: string, liveness_%: string, speechiness_%: string]"
      ]
     },
     "execution_count": 4,
     "metadata": {},
     "output_type": "execute_result"
    }
   ],
   "source": [
    "data = data.na.drop()\n",
    "data = data.withColumn(\"streams\", col(\"streams\").cast(\"double\"))\n",
    "data.describe()"
   ]
  },
  {
   "cell_type": "code",
   "execution_count": 5,
   "id": "4c0a7d37",
   "metadata": {},
   "outputs": [],
   "source": [
    "selected_columns = [\"track_name\",\"in_spotify_playlists\", \"in_spotify_charts\", \"in_apple_playlists\", \"in_apple_charts\", \"in_deezer_playlists\", \"in_deezer_charts\", \"in_shazam_charts\", \"bpm\", \"key\", \"mode\", \"danceability_%\", \"valence_%\", \"energy_%\", \"acousticness_%\", \"instrumentalness_%\", \"liveness_%\", \"speechiness_%\", \"streams\"]\n",
    "filtered_data = data.select(selected_columns)\n",
    "\n",
    "filter_data = [\"in_spotify_playlists\", \"in_spotify_charts\", \"in_apple_playlists\", \"in_apple_charts\", \"in_deezer_playlists\", \"in_deezer_charts\", \"in_shazam_charts\", \"bpm\", \"danceability_%\", \"valence_%\", \"energy_%\", \"acousticness_%\", \"instrumentalness_%\", \"liveness_%\", \"speechiness_%\"]\n",
    "categorical_cols = [\"key\", \"mode\"]\n",
    "indexers = [StringIndexer(inputCol=col, outputCol=col + \"_index\", handleInvalid=\"skip\") for col in categorical_cols]\n",
    "for indexer in indexers:\n",
    "    filtered_data = indexer.fit(filtered_data).transform(filtered_data)\n",
    "    filter_data.append(indexer.getOutputCol())"
   ]
  },
  {
   "cell_type": "code",
   "execution_count": 6,
   "id": "bca8095b",
   "metadata": {},
   "outputs": [
    {
     "name": "stdout",
     "output_type": "stream",
     "text": [
      "root\n",
      " |-- track_name: string (nullable = true)\n",
      " |-- in_spotify_playlists: integer (nullable = true)\n",
      " |-- in_spotify_charts: integer (nullable = true)\n",
      " |-- in_apple_playlists: integer (nullable = true)\n",
      " |-- in_apple_charts: integer (nullable = true)\n",
      " |-- in_deezer_playlists: integer (nullable = true)\n",
      " |-- in_deezer_charts: integer (nullable = true)\n",
      " |-- in_shazam_charts: integer (nullable = true)\n",
      " |-- bpm: integer (nullable = true)\n",
      " |-- danceability_%: integer (nullable = true)\n",
      " |-- valence_%: integer (nullable = true)\n",
      " |-- energy_%: integer (nullable = true)\n",
      " |-- acousticness_%: integer (nullable = true)\n",
      " |-- instrumentalness_%: integer (nullable = true)\n",
      " |-- liveness_%: integer (nullable = true)\n",
      " |-- speechiness_%: integer (nullable = true)\n",
      " |-- streams: double (nullable = true)\n",
      " |-- key_index: integer (nullable = true)\n",
      " |-- mode_index: integer (nullable = true)\n",
      "\n"
     ]
    }
   ],
   "source": [
    "for col_name in filter_data:\n",
    "    filtered_data = filtered_data.withColumn(col_name, regexp_replace(col(col_name), ',', ''))\n",
    "    filtered_data = filtered_data.withColumn(col_name, col(col_name).cast(IntegerType()))\n",
    "    \n",
    "cols_to_drop = [\"key\", \"mode\"]\n",
    "filtered_data = filtered_data.drop(*cols_to_drop)\n",
    "filtered_data.printSchema()"
   ]
  },
  {
   "cell_type": "code",
   "execution_count": 7,
   "id": "7034d7f9",
   "metadata": {},
   "outputs": [
    {
     "name": "stdout",
     "output_type": "stream",
     "text": [
      "+-----+--------------------+-------------+\n",
      "|label|            features|      streams|\n",
      "+-----+--------------------+-------------+\n",
      "|    1|[553.0,147.0,43.0...| 1.41381703E8|\n",
      "|    1|[1474.0,48.0,48.0...| 1.33716286E8|\n",
      "|    1|[1397.0,113.0,94....| 1.40003974E8|\n",
      "|    1|[7858.0,100.0,116...| 8.00840817E8|\n",
      "|    1|[3133.0,50.0,84.0...| 3.03236322E8|\n",
      "|    1|[2186.0,91.0,67.0...| 1.83706234E8|\n",
      "|    1|[3090.0,50.0,34.0...| 7.25980112E8|\n",
      "|    0|[714.0,43.0,25.0,...|  5.8149378E7|\n",
      "|    0|[1096.0,83.0,60.0...|  9.5217315E7|\n",
      "|    1|[2953.0,44.0,49.0...| 5.53634067E8|\n",
      "|    1|[2876.0,40.0,41.0...| 5.05671438E8|\n",
      "|    0|[422.0,55.0,37.0,...|   5.825515E7|\n",
      "|    1|[3528.0,98.0,80.0...| 3.87570742E8|\n",
      "|    1|[8109.0,77.0,183....|1.163093654E9|\n",
      "|    1|[2942.0,77.0,91.0...| 4.96795686E8|\n",
      "|    1|[2610.0,40.0,43.0...| 3.35222234E8|\n",
      "|    1|[596.0,68.0,8.0,1...| 3.63369738E8|\n",
      "|    0|[332.0,26.0,11.0,...|  8.6444842E7|\n",
      "|    0|[516.0,38.0,73.0,...|  5.2135248E7|\n",
      "|    1|[1313.0,40.0,17.0...| 2.00647221E8|\n",
      "+-----+--------------------+-------------+\n",
      "only showing top 20 rows\n",
      "\n",
      "root\n",
      " |-- label: integer (nullable = false)\n",
      " |-- features: vector (nullable = true)\n",
      " |-- streams: double (nullable = true)\n",
      "\n"
     ]
    }
   ],
   "source": [
    "feature_cols = [\"in_spotify_playlists\", \"in_spotify_charts\", \"in_apple_playlists\", \"in_apple_charts\", \"in_deezer_playlists\", \"in_deezer_charts\", \"in_shazam_charts\", \"bpm\", \"key_index\", \"mode_index\", \"danceability_%\", \"valence_%\", \"energy_%\", \"acousticness_%\", \"instrumentalness_%\", \"liveness_%\", \"speechiness_%\"]\n",
    "assembler = VectorAssembler(inputCols=feature_cols, outputCol=\"features\")\n",
    "final_data = assembler.transform(filtered_data)\n",
    "final_data = final_data.na.drop()\n",
    "final_data = final_data.withColumn(\"label\", when(col(\"streams\") >= 100000000, 1).otherwise(0))\n",
    "final_data = final_data.select(\"label\",\"features\", \"streams\")\n",
    "final_data.show()\n",
    "final_data.printSchema()"
   ]
  },
  {
   "cell_type": "code",
   "execution_count": 8,
   "id": "d4646e00",
   "metadata": {
    "scrolled": true
   },
   "outputs": [
    {
     "data": {
      "text/plain": [
       "['label', 'features', 'streams']"
      ]
     },
     "execution_count": 8,
     "metadata": {},
     "output_type": "execute_result"
    }
   ],
   "source": [
    "sorted_data = final_data.orderBy(\"streams\", ascending=False)\n",
    "sorted_data.columns"
   ]
  },
  {
   "cell_type": "code",
   "execution_count": 9,
   "id": "94586d90",
   "metadata": {},
   "outputs": [
    {
     "name": "stdout",
     "output_type": "stream",
     "text": [
      "0\n"
     ]
    }
   ],
   "source": [
    "duplicate_count = sorted_data.groupBy([col(x) for x in sorted_data.columns]).count().filter(col(\"count\") > 1).count()\n",
    "print(duplicate_count)"
   ]
  },
  {
   "cell_type": "code",
   "execution_count": 33,
   "id": "d279aa9c",
   "metadata": {},
   "outputs": [
    {
     "data": {
      "text/html": [
       "<div>\n",
       "<style scoped>\n",
       "    .dataframe tbody tr th:only-of-type {\n",
       "        vertical-align: middle;\n",
       "    }\n",
       "\n",
       "    .dataframe tbody tr th {\n",
       "        vertical-align: top;\n",
       "    }\n",
       "\n",
       "    .dataframe thead th {\n",
       "        text-align: right;\n",
       "    }\n",
       "</style>\n",
       "<table border=\"1\" class=\"dataframe\">\n",
       "  <thead>\n",
       "    <tr style=\"text-align: right;\">\n",
       "      <th></th>\n",
       "      <th>label</th>\n",
       "      <th>features</th>\n",
       "      <th>streams</th>\n",
       "    </tr>\n",
       "  </thead>\n",
       "  <tbody>\n",
       "    <tr>\n",
       "      <th>1</th>\n",
       "      <td>1</td>\n",
       "      <td>[32181.0, 10.0, 33.0, 0.0, 6808.0, 7.0, 0.0, 9...</td>\n",
       "      <td>3.562544e+09</td>\n",
       "    </tr>\n",
       "    <tr>\n",
       "      <th>2</th>\n",
       "      <td>1</td>\n",
       "      <td>[24094.0, 78.0, 372.0, 117.0, 843.0, 4.0, 69.0...</td>\n",
       "      <td>2.808097e+09</td>\n",
       "    </tr>\n",
       "    <tr>\n",
       "      <th>3</th>\n",
       "      <td>1</td>\n",
       "      <td>[43257.0, 24.0, 433.0, 107.0, 3631.0, 0.0, 26....</td>\n",
       "      <td>2.713922e+09</td>\n",
       "    </tr>\n",
       "    <tr>\n",
       "      <th>4</th>\n",
       "      <td>1</td>\n",
       "      <td>[17050.0, 36.0, 492.0, 99.0, 798.0, 31.0, 0.0,...</td>\n",
       "      <td>2.665344e+09</td>\n",
       "    </tr>\n",
       "    <tr>\n",
       "      <th>5</th>\n",
       "      <td>1</td>\n",
       "      <td>[18986.0, 23.0, 250.0, 121.0, 2969.0, 10.0, 31...</td>\n",
       "      <td>2.594040e+09</td>\n",
       "    </tr>\n",
       "    <tr>\n",
       "      <th>6</th>\n",
       "      <td>1</td>\n",
       "      <td>[28032.0, 0.0, 315.0, 159.0, 2179.0, 0.0, 44.0...</td>\n",
       "      <td>2.591224e+09</td>\n",
       "    </tr>\n",
       "    <tr>\n",
       "      <th>7</th>\n",
       "      <td>1</td>\n",
       "      <td>[29536.0, 79.0, 281.0, 137.0, 2445.0, 1.0, 140...</td>\n",
       "      <td>2.565530e+09</td>\n",
       "    </tr>\n",
       "    <tr>\n",
       "      <th>8</th>\n",
       "      <td>1</td>\n",
       "      <td>[16596.0, 13.0, 7.0, 0.0, 2094.0, 0.0, 0.0, 95...</td>\n",
       "      <td>2.559529e+09</td>\n",
       "    </tr>\n",
       "    <tr>\n",
       "      <th>9</th>\n",
       "      <td>1</td>\n",
       "      <td>[15010.0, 2.0, 453.0, 50.0, 1785.0, 1.0, 8.0, ...</td>\n",
       "      <td>2.484813e+09</td>\n",
       "    </tr>\n",
       "    <tr>\n",
       "      <th>10</th>\n",
       "      <td>1</td>\n",
       "      <td>[15722.0, 16.0, 231.0, 37.0, 1509.0, 0.0, 13.0...</td>\n",
       "      <td>2.420461e+09</td>\n",
       "    </tr>\n",
       "  </tbody>\n",
       "</table>\n",
       "</div>"
      ],
      "text/plain": [
       "    label                                           features       streams\n",
       "1       1  [32181.0, 10.0, 33.0, 0.0, 6808.0, 7.0, 0.0, 9...  3.562544e+09\n",
       "2       1  [24094.0, 78.0, 372.0, 117.0, 843.0, 4.0, 69.0...  2.808097e+09\n",
       "3       1  [43257.0, 24.0, 433.0, 107.0, 3631.0, 0.0, 26....  2.713922e+09\n",
       "4       1  [17050.0, 36.0, 492.0, 99.0, 798.0, 31.0, 0.0,...  2.665344e+09\n",
       "5       1  [18986.0, 23.0, 250.0, 121.0, 2969.0, 10.0, 31...  2.594040e+09\n",
       "6       1  [28032.0, 0.0, 315.0, 159.0, 2179.0, 0.0, 44.0...  2.591224e+09\n",
       "7       1  [29536.0, 79.0, 281.0, 137.0, 2445.0, 1.0, 140...  2.565530e+09\n",
       "8       1  [16596.0, 13.0, 7.0, 0.0, 2094.0, 0.0, 0.0, 95...  2.559529e+09\n",
       "9       1  [15010.0, 2.0, 453.0, 50.0, 1785.0, 1.0, 8.0, ...  2.484813e+09\n",
       "10      1  [15722.0, 16.0, 231.0, 37.0, 1509.0, 0.0, 13.0...  2.420461e+09"
      ]
     },
     "execution_count": 33,
     "metadata": {},
     "output_type": "execute_result"
    }
   ],
   "source": [
    "pandas_df = sorted_data.toPandas()\n",
    "pandas_df = pandas_df.reset_index(drop=True)\n",
    "pandas_df.index = pandas_df.index + 1\n",
    "pandas_df.head(10)"
   ]
  },
  {
   "cell_type": "code",
   "execution_count": 11,
   "id": "6310a122",
   "metadata": {},
   "outputs": [],
   "source": [
    "my_log_reg_model = LogisticRegression()"
   ]
  },
  {
   "cell_type": "code",
   "execution_count": 12,
   "id": "e16523f5",
   "metadata": {},
   "outputs": [],
   "source": [
    "fitted_logreg = my_log_reg_model.fit(final_data)"
   ]
  },
  {
   "cell_type": "code",
   "execution_count": 13,
   "id": "dc4dafb7",
   "metadata": {},
   "outputs": [],
   "source": [
    "log_summary = fitted_logreg.summary"
   ]
  },
  {
   "cell_type": "code",
   "execution_count": 14,
   "id": "7bd61176",
   "metadata": {},
   "outputs": [
    {
     "name": "stdout",
     "output_type": "stream",
     "text": [
      "root\n",
      " |-- label: double (nullable = false)\n",
      " |-- features: vector (nullable = true)\n",
      " |-- streams: double (nullable = true)\n",
      " |-- rawPrediction: vector (nullable = true)\n",
      " |-- probability: vector (nullable = true)\n",
      " |-- prediction: double (nullable = false)\n",
      "\n"
     ]
    }
   ],
   "source": [
    "log_summary.predictions.printSchema()"
   ]
  },
  {
   "cell_type": "code",
   "execution_count": 15,
   "id": "ff8b2af8",
   "metadata": {},
   "outputs": [
    {
     "name": "stdout",
     "output_type": "stream",
     "text": [
      "+-----+--------------------+-------------+--------------------+--------------------+----------+\n",
      "|label|            features|      streams|       rawPrediction|         probability|prediction|\n",
      "+-----+--------------------+-------------+--------------------+--------------------+----------+\n",
      "|  1.0|[553.0,147.0,43.0...| 1.41381703E8|[-0.0901266726761...|[0.47748357117078...|       1.0|\n",
      "|  1.0|[1474.0,48.0,48.0...| 1.33716286E8|[-1.5187342170476...|[0.17964798801176...|       1.0|\n",
      "|  1.0|[1397.0,113.0,94....| 1.40003974E8|[-0.4045854442859...|[0.40021113787675...|       1.0|\n",
      "|  1.0|[7858.0,100.0,116...| 8.00840817E8|[-14.353305864423...|[5.84034109901865...|       1.0|\n",
      "|  1.0|[3133.0,50.0,84.0...| 3.03236322E8|[-3.9039794727797...|[0.01976306593848...|       1.0|\n",
      "|  1.0|[2186.0,91.0,67.0...| 1.83706234E8|[-2.5264693470883...|[0.07402328743897...|       1.0|\n",
      "|  1.0|[3090.0,50.0,34.0...| 7.25980112E8|[-4.9596590510934...|[0.00696644743722...|       1.0|\n",
      "|  0.0|[714.0,43.0,25.0,...|  5.8149378E7|[0.68139654663106...|[0.66405032083356...|       0.0|\n",
      "|  0.0|[1096.0,83.0,60.0...|  9.5217315E7|[1.11859323147623...|[0.75372768210721...|       0.0|\n",
      "|  1.0|[2953.0,44.0,49.0...| 5.53634067E8|[-4.3217892145388...|[0.01310216273937...|       1.0|\n",
      "|  1.0|[2876.0,40.0,41.0...| 5.05671438E8|[-4.8544828404492...|[0.00773309590193...|       1.0|\n",
      "|  0.0|[422.0,55.0,37.0,...|   5.825515E7|[-0.6260735098915...|[0.34840138976982...|       1.0|\n",
      "|  1.0|[3528.0,98.0,80.0...| 3.87570742E8|[-3.2005770394861...|[0.03914401355365...|       1.0|\n",
      "|  1.0|[8109.0,77.0,183....|1.163093654E9|[-16.419190057384...|[7.40007853185470...|       1.0|\n",
      "|  1.0|[2942.0,77.0,91.0...| 4.96795686E8|[-7.6393635488900...|[4.80903194112555...|       1.0|\n",
      "|  1.0|[2610.0,40.0,43.0...| 3.35222234E8|[-4.3783226755840...|[0.01239092403265...|       1.0|\n",
      "|  1.0|[596.0,68.0,8.0,1...| 3.63369738E8|[-0.0996100620714...|[0.47511805464353...|       1.0|\n",
      "|  0.0|[332.0,26.0,11.0,...|  8.6444842E7|[-0.8434851019483...|[0.30080128932597...|       1.0|\n",
      "|  0.0|[516.0,38.0,73.0,...|  5.2135248E7|[-2.2563104036250...|[0.09480653064257...|       1.0|\n",
      "|  1.0|[1313.0,40.0,17.0...| 2.00647221E8|[-2.2873241595576...|[0.09217822378116...|       1.0|\n",
      "|  1.0|[1945.0,87.0,74.0...| 1.15364561E8|[-1.3013692882661...|[0.21393465818072...|       1.0|\n",
      "|  0.0|[250.0,26.0,16.0,...|  7.8300654E7|[-0.2225249560036...|[0.44459718927172...|       1.0|\n",
      "|  1.0|[7112.0,77.0,202....| 8.99183384E8|[-16.667153912264...|[5.77493368911882...|       1.0|\n",
      "|  0.0|[859.0,40.0,35.0,...|  6.1245289E7|[-0.5353803888628...|[0.36926287440912...|       1.0|\n",
      "|  1.0|[2420.0,19.0,52.0...| 4.29829812E8|[-3.6228540648673...|[0.02601166933393...|       1.0|\n",
      "|  1.0|[2988.0,101.0,0.0...| 1.27408954E8|[-2.7414590784175...|[0.06057082558304...|       1.0|\n",
      "|  0.0|[864.0,78.0,71.0,...|  2.2581161E7|[-0.6685954031783...|[0.33881142483437...|       1.0|\n",
      "|  0.0|[266.0,34.0,20.0,...|  5.2294266E7|[-0.3284765000154...|[0.41861136028032...|       1.0|\n",
      "|  1.0|[6036.0,88.0,113....|  8.4395751E8|[-12.743049130687...|[2.92255579208905...|       1.0|\n",
      "|  1.0|[9082.0,56.0,242....| 9.99748277E8|[-18.891313702359...|[6.24606789113782...|       1.0|\n",
      "|  1.0|[4284.0,49.0,115....| 6.18990393E8|[-8.8770613606149...|[1.39534188965633...|       1.0|\n",
      "|  1.0|[672.0,34.0,19.0,...| 1.88933502E8|[-0.0804355438494...|[0.47990194886212...|       1.0|\n",
      "|  1.0|[11434.0,53.0,154...|1.355959075E9|[-27.743443112177...|[8.93667053771644...|       1.0|\n",
      "|  1.0|[7830.0,42.0,94.0...| 7.86181836E8|[-15.758545371753...|[1.43268475618084...|       1.0|\n",
      "|  1.0|[584.0,28.0,16.0,...| 1.76553476E8|[-1.2146864378749...|[0.22887289034714...|       1.0|\n",
      "|  1.0|[692.0,25.0,10.0,...| 3.54495408E8|[-1.0018319445374...|[0.26858139170927...|       1.0|\n",
      "|  1.0|[24094.0,78.0,372...| 2.80809655E9|[-59.575347676854...|[1.33892190414057...|       1.0|\n",
      "|  1.0|[12482.0,80.0,291...|1.109433169E9|[-26.388375798969...|[3.46476675899763...|       1.0|\n",
      "|  1.0|[13387.0,64.0,77....|1.047101291E9|[-26.077267363458...|[4.72918911083489...|       1.0|\n",
      "|  1.0|[3372.0,19.0,65.0...| 5.70515054E8|[-7.5967248396354...|[5.01841208114884...|       1.0|\n",
      "|  1.0|[2483.0,59.0,68.0...|1.647990401E9|[-2.3736547829908...|[0.08520383830611...|       1.0|\n",
      "|  1.0|[29536.0,79.0,281...|2.565529693E9|[-96.644318561526...|[1.06636465405529...|       1.0|\n",
      "|  1.0|[3408.0,47.0,87.0...| 5.18745108E8|[-6.1662720461664...|[0.00209464981394...|       1.0|\n",
      "|  1.0|[1298.0,38.0,44.0...|  1.0775385E8|[-1.1884277984860...|[0.23354024067487...|       1.0|\n",
      "|  1.0|[4277.0,66.0,145....| 1.77740666E8|[-7.2735759976045...|[6.93146359363214...|       1.0|\n",
      "|  1.0|[1133.0,39.0,14.0...| 1.53372011E8|[-0.5834204591582...|[0.35814592640373...|       1.0|\n",
      "|  0.0|[2259.0,59.0,0.0,...|   5.787644E7|[-2.8768291574836...|[0.05331093880185...|       1.0|\n",
      "|  1.0|[2649.0,42.0,67.0...| 2.56483385E8|[-3.1645865340096...|[0.04052035992167...|       1.0|\n",
      "|  1.0|[6804.0,45.0,139....|1.214083358E9|[-13.728130984374...|[1.09130964292509...|       1.0|\n",
      "|  1.0|[731.0,15.0,27.0,...| 1.11947664E8|[-0.8535645656131...|[0.29868564354084...|       1.0|\n",
      "|  1.0|[5184.0,41.0,154....| 1.56338624E8|[-10.490082569415...|[2.78101254175735...|       1.0|\n",
      "|  1.0|[3107.0,39.0,38.0...|  7.2043424E8|[-5.0056740754066...|[0.00665523474037...|       1.0|\n",
      "|  1.0|[4053.0,50.0,82.0...| 3.57925728E8|[-8.7564557870296...|[1.57416843600925...|       1.0|\n",
      "|  1.0|[4637.0,38.0,63.0...|  6.7407271E8|[-8.0251320761773...|[3.27029832776466...|       1.0|\n",
      "|  1.0|[31358.0,43.0,196...|1.755214421E9|[-127.19975684190...|[5.72594937713974...|       1.0|\n",
      "|  1.0|[3818.0,23.0,37.0...| 4.04562836E8|[-4.7252571400436...|[0.00879047544325...|       1.0|\n",
      "|  1.0|[3506.0,56.0,105....| 3.73199958E8|[-7.2217542982981...|[7.29986475034823...|       1.0|\n",
      "|  0.0|[410.0,36.0,36.0,...|  1.4780425E7|[0.31766815231030...|[0.57875585811830...|       0.0|\n",
      "|  0.0|[148.0,24.0,32.0,...|  3.9578178E7|[0.33087458411134...|[0.58197216139966...|       0.0|\n",
      "|  0.0|[1004.0,35.0,42.0...|  5.4266102E7|[-1.2518837390072...|[0.22237422492665...|       1.0|\n",
      "|  1.0|[4511.0,36.0,70.0...| 7.51134527E8|[-5.7783454896443...|[0.00308428768810...|       1.0|\n",
      "|  1.0|[8506.0,45.0,94.0...|1.356565093E9|[-15.688189634561...|[1.53711281706388...|       1.0|\n",
      "|  1.0|[33898.0,62.0,233...|1.592909789E9|[-131.90686714806...|[5.17101112893002...|       1.0|\n",
      "|  1.0|[3246.0,23.0,94.0...| 6.35412045E8|[-6.8272843039099...|[0.00108262404393...|       1.0|\n",
      "|  1.0|[8576.0,42.0,216....| 1.23067589E9|[-19.600834059879...|[3.07231630543741...|       1.0|\n",
      "|  1.0|[3618.0,38.0,47.0...| 5.85695368E8|[-5.7565136976968...|[0.00315214903565...|       1.0|\n",
      "|  0.0|[370.0,20.0,12.0,...|  4.3857627E7|[1.46455613192990...|[0.81222853438922...|       0.0|\n",
      "|  1.0|[31123.0,55.0,300...|2.009094673E9|[-72.225886082852...|[4.29236083583198...|       1.0|\n",
      "|  1.0|[2790.0,30.0,60.0...| 6.00976848E8|[-5.3763373777483...|[0.00460343992060...|       1.0|\n",
      "|  0.0|[267.0,9.0,9.0,6....|  3.9709092E7|[0.66645078288519...|[0.66070797514154...|       0.0|\n",
      "|  0.0|[139.0,17.0,16.0,...|  3.9228929E7|[0.65172538506020...|[0.65739916885534...|       0.0|\n",
      "|  1.0|[17050.0,36.0,492...|2.665343922E9|[-44.508370783958...|[4.68015428339095...|       1.0|\n",
      "|  1.0|[2114.0,44.0,80.0...| 2.23633238E8|[-3.7376619382601...|[0.02325598840571...|       1.0|\n",
      "|  1.0|[8870.0,43.0,104....|1.440757818E9|[-15.870701995556...|[1.28068299739027...|       1.0|\n",
      "|  1.0|[6060.0,53.0,150....| 1.65484133E8|[-54.711320016009...|[1.73450525280193...|       1.0|\n",
      "|  0.0|[641.0,50.0,1.0,5...|  5.8054811E7|[3.37312627643345...|[0.96685402629484...|       0.0|\n",
      "|  1.0|[1446.0,12.0,57.0...|  1.5705887E8|[-2.3704120339321...|[0.08545693181569...|       1.0|\n",
      "|  0.0|[804.0,25.0,29.0,...|  9.5131998E7|[-0.7900570767464...|[0.31215641406430...|       1.0|\n",
      "|  1.0|[1962.0,38.0,28.0...| 2.50305248E8|[-2.3966955423047...|[0.08342502523736...|       1.0|\n",
      "|  1.0|[4875.0,23.0,19.0...| 6.85032533E8|[-6.9932326397668...|[9.17231840654018...|       1.0|\n",
      "|  0.0|[31.0,39.0,2.0,10...|  3.8411956E7|[1.37925451866079...|[0.79887124599312...|       0.0|\n",
      "|  1.0|[2175.0,23.0,69.0...|  1.4456515E8|[-5.1571753256649...|[0.00572497696502...|       1.0|\n",
      "|  1.0|[2000.0,46.0,49.0...|  1.2756754E8|[-3.9292679053270...|[0.01927906975869...|       1.0|\n",
      "|  1.0|[2839.0,25.0,58.0...| 3.99686758E8|[-5.3760763594251...|[0.00460463612603...|       1.0|\n",
      "|  1.0|[20333.0,52.0,89....| 9.83637508E8|[-63.403739919578...|[2.91142509377327...|       1.0|\n",
      "|  1.0|[674.0,47.0,20.0,...| 1.18482347E8|[-0.7764298699788...|[0.31508984040704...|       1.0|\n",
      "|  1.0|[8448.0,23.0,160....| 8.82831184E8|[-18.246026070634...|[1.19083490434797...|       1.0|\n",
      "|  1.0|[2110.0,58.0,17.0...| 2.86400165E8|[-1.5259241287077...|[0.17859081727846...|       1.0|\n",
      "|  1.0|[2528.0,39.0,56.0...| 1.72825906E8|[-2.7756058545671...|[0.05865671311748...|       1.0|\n",
      "|  1.0|[12985.0,61.0,49....|1.241559043E9|[-64.022326434214...|[1.56840027946233...|       1.0|\n",
      "|  0.0|[77.0,35.0,8.0,16...|   2.956222E7|[-0.3260393092778...|[0.41920463113086...|       1.0|\n",
      "|  0.0|[266.0,27.0,6.0,4...|  7.7309611E7|[0.81096017289689...|[0.69231407357566...|       0.0|\n",
      "|  1.0|[21097.0,52.0,384...|1.605224506E9|[-54.751994399186...|[1.66537085217574...|       1.0|\n",
      "|  1.0|[3423.0,21.0,41.0...|1.116995633E9|[-6.5489561328718...|[0.00142956265332...|       1.0|\n",
      "|  1.0|[4198.0,44.0,98.0...|   8.380799E8|[-11.758591340380...|[7.82177409956966...|       1.0|\n",
      "|  1.0|[14739.0,43.0,88....|1.163620694E9|[-62.749639431590...|[5.59986881874591...|       1.0|\n",
      "|  1.0|[26792.0,32.0,69....|1.093605526E9|[-57.226345923495...|[1.40253512316470...|       1.0|\n",
      "|  1.0|[213.0,6.0,7.0,6....| 1.79659294E8|[1.40610746698540...|[0.80315126295907...|       0.0|\n",
      "|  0.0|[58.0,18.0,2.0,10...|  3.9058561E7|[-0.1606483695129...|[0.45992406022089...|       1.0|\n",
      "|  0.0|[99.0,15.0,21.0,5...|  3.6912123E7|[0.70072149531691...|[0.66834771755216...|       0.0|\n",
      "+-----+--------------------+-------------+--------------------+--------------------+----------+\n",
      "only showing top 100 rows\n",
      "\n"
     ]
    }
   ],
   "source": [
    "log_summary.predictions.show(100)"
   ]
  },
  {
   "cell_type": "code",
   "execution_count": 16,
   "id": "31022334",
   "metadata": {},
   "outputs": [],
   "source": [
    "lr_train, lr_test = final_data.randomSplit([0.7,0.3])"
   ]
  },
  {
   "cell_type": "code",
   "execution_count": 17,
   "id": "a5e40571",
   "metadata": {},
   "outputs": [],
   "source": [
    "final_model = LogisticRegression()"
   ]
  },
  {
   "cell_type": "code",
   "execution_count": 18,
   "id": "449b6843",
   "metadata": {},
   "outputs": [],
   "source": [
    "fit_final = final_model.fit(lr_train)"
   ]
  },
  {
   "cell_type": "code",
   "execution_count": 19,
   "id": "5364fc8b",
   "metadata": {},
   "outputs": [],
   "source": [
    "predictions_and_labels = fit_final.evaluate(lr_test)"
   ]
  },
  {
   "cell_type": "code",
   "execution_count": 20,
   "id": "5abdc82f",
   "metadata": {},
   "outputs": [
    {
     "name": "stdout",
     "output_type": "stream",
     "text": [
      "0.8387096774193549\n"
     ]
    }
   ],
   "source": [
    "print(predictions_and_labels.accuracy)"
   ]
  },
  {
   "cell_type": "code",
   "execution_count": 21,
   "id": "bdc2d7fd",
   "metadata": {},
   "outputs": [
    {
     "name": "stdout",
     "output_type": "stream",
     "text": [
      "+-----+--------------------+-----------+--------------------+--------------------+----------+\n",
      "|label|            features|    streams|       rawPrediction|         probability|prediction|\n",
      "+-----+--------------------+-----------+--------------------+--------------------+----------+\n",
      "|    0|(17,[0,2,4,7,10,1...|6.0680939E7|[0.62287137538505...|[0.65087131606707...|       0.0|\n",
      "|    0|[31.0,39.0,2.0,10...|3.8411956E7|[1.29378935448301...|[0.78478788611074...|       0.0|\n",
      "|    0|[86.0,8.0,7.0,76....|3.1873544E7|[-0.0842115643624...|[0.47895954162775...|       1.0|\n",
      "|    0|[86.0,11.0,3.0,33...|3.0343206E7|[1.24729251483087...|[0.77683083067653...|       0.0|\n",
      "|    0|[99.0,15.0,21.0,5...|3.6912123E7|[0.95228500548615...|[0.72157447882321...|       0.0|\n",
      "|    0|[138.0,4.0,13.0,7...|  1365184.0|[0.18373780637487...|[0.54580565905266...|       0.0|\n",
      "|    0|[182.0,8.0,3.0,88...|5.4225632E7|[-0.4956458987552...|[0.37856444301330...|       1.0|\n",
      "|    0|[185.0,3.0,5.0,6....|4.3522589E7|[1.19605451796836...|[0.76782216069082...|       0.0|\n",
      "|    0|[201.0,11.0,19.0,...|5.5842345E7|[-0.7713687600375...|[0.31618309038496...|       1.0|\n",
      "|    0|[225.0,0.0,11.0,0...|8.9566512E7|[1.85016763313692...|[0.8641467838397,...|       0.0|\n",
      "|    0|[259.0,0.0,5.0,17...|3.7126685E7|[1.44688207161837...|[0.80951811791769...|       0.0|\n",
      "|    0|[279.0,0.0,0.0,18...| 7.909527E7|[1.06141871999382...|[0.74296157117437...|       0.0|\n",
      "|    0|[282.0,0.0,6.0,15...|5.6533272E7|[0.92148361673467...|[0.71534430636736...|       0.0|\n",
      "|    0|[283.0,7.0,6.0,9....|8.1102253E7|[-0.0375509810735...|[0.49061335769575...|       1.0|\n",
      "|    0|[308.0,0.0,6.0,1....|4.7093942E7|[0.28194669972844...|[0.57002341855703...|       0.0|\n",
      "|    0|[330.0,0.0,3.0,0....|5.3987404E7|[-0.1641273977288...|[0.45906001210956...|       1.0|\n",
      "|    0|[332.0,5.0,18.0,4...|7.0106975E7|[0.67998342367316...|[0.66373499772990...|       0.0|\n",
      "|    0|[398.0,0.0,2.0,2....|7.8139948E7|[1.15509290613432...|[0.76043992720576...|       0.0|\n",
      "|    0|[451.0,33.0,10.0,...|9.6273746E7|[-0.6768384081753...|[0.33696730202370...|       1.0|\n",
      "|    0|[486.0,0.0,8.0,1....|7.1095708E7|[0.97264872782723...|[0.72564713050438...|       0.0|\n",
      "|    0|[579.0,0.0,11.0,5...|9.5623148E7|[-0.3707947384441...|[0.40834899870786...|       1.0|\n",
      "|    0|[620.0,0.0,17.0,3...|5.4937991E7|[-0.0705967513412...|[0.48235813866410...|       1.0|\n",
      "|    0|[714.0,43.0,25.0,...|5.8149378E7|[0.92693971304666...|[0.71645400737780...|       0.0|\n",
      "|    0|[733.0,0.0,0.0,2....|4.1924466E7|[0.14474302033973...|[0.53612271123031...|       0.0|\n",
      "|    0|[766.0,0.0,16.0,0...|8.4697729E7|[0.07723738045533...|[0.51929975149705...|       0.0|\n",
      "|    0|[768.0,0.0,1.0,1....|3.1959571E7|[0.57078769078256...|[0.63894491081258...|       0.0|\n",
      "|    0|[773.0,33.0,20.0,...|5.7312735E7|[0.74499721056941...|[0.67808764066165...|       0.0|\n",
      "|    0|[804.0,25.0,29.0,...|9.5131998E7|[-0.7125332819795...|[0.32903931930838...|       1.0|\n",
      "|    0|[892.0,0.0,3.0,17...|6.5362788E7|[-0.2882055296095...|[0.42844323977765...|       1.0|\n",
      "|    0|[896.0,0.0,34.0,2...|5.7089066E7|[-0.0642442695101...|[0.48394445444873...|       1.0|\n",
      "+-----+--------------------+-----------+--------------------+--------------------+----------+\n",
      "only showing top 30 rows\n",
      "\n"
     ]
    }
   ],
   "source": [
    "predictions_and_labels.predictions.show(30)"
   ]
  },
  {
   "cell_type": "code",
   "execution_count": 22,
   "id": "c34e79f2",
   "metadata": {},
   "outputs": [],
   "source": [
    "my_eval = BinaryClassificationEvaluator()"
   ]
  },
  {
   "cell_type": "code",
   "execution_count": 23,
   "id": "1022a59f",
   "metadata": {},
   "outputs": [],
   "source": [
    "my_final_roc = my_eval.evaluate(predictions_and_labels.predictions)"
   ]
  },
  {
   "cell_type": "code",
   "execution_count": 24,
   "id": "1a78ecce",
   "metadata": {},
   "outputs": [
    {
     "data": {
      "text/plain": [
       "0.8794471153846156"
      ]
     },
     "execution_count": 24,
     "metadata": {},
     "output_type": "execute_result"
    }
   ],
   "source": [
    "my_final_roc"
   ]
  },
  {
   "cell_type": "code",
   "execution_count": 25,
   "id": "5f78aff2",
   "metadata": {},
   "outputs": [
    {
     "data": {
      "image/png": "[encoded data removed]",
      "text/plain": [
       "<Figure size 600x400 with 1 Axes>"
      ]
     },
     "metadata": {},
     "output_type": "display_data"
    }
   ],
   "source": [
    "correct_predictions_count = predictions_and_labels.predictions[expr(\"prediction == label\")].count()\n",
    "incorrect_predictions_count =  predictions_and_labels.predictions[expr(\"prediction != label\")].count()\n",
    "accuracy = correct_predictions_count / predictions_and_labels.predictions.count() * 100\n",
    "\n",
    "plt.figure(figsize=(6, 4))\n",
    "plt.bar([\"correct\", \"incorrect\"], [correct_predictions_count, incorrect_predictions_count])\n",
    "plt.xlabel(\"Hasil Prediksi\")\n",
    "plt.ylabel(\"Jumlah Data\")\n",
    "plt.title(f\"Akurasi: {accuracy:.2f}%\")\n",
    "plt.show()"
   ]
  },
  {
   "cell_type": "code",
   "execution_count": 26,
   "id": "1e57a6a1",
   "metadata": {},
   "outputs": [
    {
     "data": {
      "image/png": "[encoded data removed]",
      "text/plain": [
       "<Figure size 640x480 with 1 Axes>"
      ]
     },
     "metadata": {},
     "output_type": "display_data"
    }
   ],
   "source": [
    "labels = ['correct', 'incorrect']\n",
    "quantity = [correct_predictions_count, incorrect_predictions_count]\n",
    "colors = ['blue', 'red']\n",
    "\n",
    "plt.pie(quantity, labels=labels, colors=colors,\n",
    "        autopct='%1.1f%%', shadow=True, startangle=90)\n",
    "\n",
    "plt.axis('equal')\n",
    "plt.show()"
   ]
  },
  {
   "cell_type": "code",
   "execution_count": 27,
   "id": "35928dca",
   "metadata": {},
   "outputs": [
    {
     "data": {
      "image/png": "[encoded data removed]",
      "text/plain": [
       "<Figure size 800x600 with 1 Axes>"
      ]
     },
     "metadata": {},
     "output_type": "display_data"
    }
   ],
   "source": [
    "prediction_zero = predictions_and_labels.predictions.filter(expr(\"prediction == 0\")).count()\n",
    "prediction_one = predictions_and_labels.predictions.filter(expr(\"prediction == 1\")).count()\n",
    "\n",
    "label_zero = predictions_and_labels.predictions.filter(expr(\"label == 0\")).count()\n",
    "label_one = predictions_and_labels.predictions.filter(expr(\"label == 1\")).count()\n",
    "\n",
    "categories = [\"Prediction 1\", \"Prediction 0\", \"Label 1\", \"Label 0\"]\n",
    "counts = [prediction_one, prediction_zero, label_one, label_zero]\n",
    "\n",
    "plt.figure(figsize=(8, 6))\n",
    "plt.bar(categories, counts, color=['blue', 'blue', 'green', 'green'])\n",
    "plt.ylabel(\"Jumlah Data\")\n",
    "plt.title(\"Diagram Batang Prediksi dan Label\")\n",
    "plt.show()"
   ]
  },
  {
   "cell_type": "code",
   "execution_count": 28,
   "id": "0dd19231",
   "metadata": {},
   "outputs": [
    {
     "name": "stdout",
     "output_type": "stream",
     "text": [
      "lagu populer : 189\n",
      "lagu tidak populer : 19\n"
     ]
    },
    {
     "data": {
      "image/png": "[encoded data removed]",
      "text/plain": [
       "<Figure size 800x600 with 1 Axes>"
      ]
     },
     "metadata": {},
     "output_type": "display_data"
    }
   ],
   "source": [
    "prediction_populer = predictions_and_labels.predictions.filter(expr(\"(prediction == 1) AND (label == 1)\")).count()\n",
    "prediction_unpopuler = predictions_and_labels.predictions.filter(expr(\"(prediction == 0) AND (label == 0)\")).count()\n",
    "print(\"lagu populer : \" + str(prediction_populer))\n",
    "print(\"lagu tidak populer : \" + str(prediction_unpopuler))\n",
    "\n",
    "plt.figure(figsize=(8, 6))\n",
    "plt.bar([\"Popular\", \"Unpopuler\"], [prediction_populer, prediction_unpopuler], color=['blue', 'red'])\n",
    "plt.ylabel(\"Jumlah Data\")\n",
    "plt.show()"
   ]
  },
  {
   "cell_type": "code",
   "execution_count": 29,
   "id": "9853f942",
   "metadata": {
    "scrolled": true
   },
   "outputs": [
    {
     "name": "stdout",
     "output_type": "stream",
     "text": [
      "+-----+--------------------+-------------+--------------------+--------------------+----------+-------+\n",
      "|label|            features|      streams|       rawPrediction|         probability|prediction|correct|\n",
      "+-----+--------------------+-------------+--------------------+--------------------+----------+-------+\n",
      "|    1|[17050.0,36.0,492...|2.665343922E9|[-44.926639093967...|[3.08041018761021...|       1.0|   true|\n",
      "|    1|[18986.0,23.0,250...|2.594040133E9|[-75.743195374920...|[1.27393774971851...|       1.0|   true|\n",
      "|    1|[28032.0,0.0,315....|2.591224264E9|[-87.409779659732...|[1.09248385958282...|       1.0|   true|\n",
      "|    1|[29536.0,79.0,281...|2.565529693E9|[-91.105640344458...|[2.71220884621133...|       1.0|   true|\n",
      "|    1|[33032.0,0.0,363....|2.280566092E9|[-118.13107967602...|[4.96962885206596...|       1.0|   true|\n",
      "|    1|[29215.0,43.0,179...|2.011464183E9|[-100.06708049399...|[3.47871717426036...|       1.0|   true|\n",
      "|    1|[26694.0,13.0,65....|1.840364617E9|[-95.479284482747...|[3.41879935279793...|       1.0|   true|\n",
      "|    1|[32502.0,21.0,247...|1.829992958E9|[-132.22992383041...|[3.74346466360333...|       1.0|   true|\n",
      "|    1|[33783.0,26.0,133...|1.788326445E9|[-103.36244726572...|[1.28901958656849...|       1.0|   true|\n",
      "|    1|[22923.0,0.0,78.0...| 1.69571202E9|[-75.244049843332...|[2.09857433371044...|       1.0|   true|\n",
      "+-----+--------------------+-------------+--------------------+--------------------+----------+-------+\n",
      "\n"
     ]
    }
   ],
   "source": [
    "prediction_df = predictions_and_labels.predictions\n",
    "prediction_df = prediction_df.withColumn(\"correct\", expr(\"(prediction == 1 AND label == 1)\"))\n",
    "top_10_data = prediction_df.orderBy(\"streams\", ascending=False).limit(10)\n",
    "top_10_data.show()"
   ]
  },
  {
   "cell_type": "code",
   "execution_count": 30,
   "id": "8d163dbf",
   "metadata": {
    "scrolled": true
   },
   "outputs": [
    {
     "name": "stdout",
     "output_type": "stream",
     "text": [
      "+--------------------+-----+-------------+\n",
      "|          track_name| mode|      streams|\n",
      "+--------------------+-----+-------------+\n",
      "|STAY (with Justin...|Major|2.665343922E9|\n",
      "|            Believer|Minor|2.594040133E9|\n",
      "|              Closer|Major|2.591224264E9|\n",
      "|             Starboy|Major|2.565529693E9|\n",
      "|   Thinking Out Loud|Major|2.280566092E9|\n",
      "|      Counting Stars|Minor|2.011464183E9|\n",
      "|              Demons|Major|1.840364617E9|\n",
      "|Lose Yourself - S...|Major|1.829992958E9|\n",
      "|    Do I Wanna Know?|Major|1.788326445E9|\n",
      "|    'Till I Collapse|Major| 1.69571202E9|\n",
      "+--------------------+-----+-------------+\n",
      "only showing top 10 rows\n",
      "\n"
     ]
    }
   ],
   "source": [
    "combined_df = data.join(prediction_df, on=['streams'], how='inner')\n",
    "result_df = combined_df.select('track_name', 'mode', 'streams')\n",
    "result_df = result_df.orderBy('streams', ascending=False)\n",
    "result_df.show(10)"
   ]
  },
  {
   "cell_type": "code",
   "execution_count": 31,
   "id": "d07df340",
   "metadata": {},
   "outputs": [
    {
     "data": {
      "image/png": "[encoded data removed]",
      "text/plain": [
       "<Figure size 600x400 with 1 Axes>"
      ]
     },
     "metadata": {},
     "output_type": "display_data"
    }
   ],
   "source": [
    "spark_df = result_df\n",
    "mode_counts = spark_df.groupBy(\"mode\").count()\n",
    "minor_count = mode_counts.filter(col(\"mode\") == \"Minor\").select(\"count\").first()[0]\n",
    "major_count = mode_counts.filter(col(\"mode\") == \"Major\").select(\"count\").first()[0]\n",
    "\n",
    "plt.figure(figsize=(6, 4))\n",
    "plt.bar([\"Major\", \"Minor\"], [major_count, minor_count])\n",
    "plt.ylabel(\"Jumlah Data\")\n",
    "plt.show()"
   ]
  },
  {
   "cell_type": "code",
   "execution_count": null,
   "id": "31f53490",
   "metadata": {},
   "outputs": [],
   "source": []
  }
 ],
 "metadata": {
  "kernelspec": {
   "display_name": "Python 3 (ipykernel)",
   "language": "python",
   "name": "python3"
  },
  "language_info": {
   "codemirror_mode": {
    "name": "ipython",
    "version": 3
   },
   "file_extension": ".py",
   "mimetype": "text/x-python",
   "name": "python",
   "nbconvert_exporter": "python",
   "pygments_lexer": "ipython3",
   "version": "3.11.5"
  }
 },
 "nbformat": 4,
 "nbformat_minor": 5
}
